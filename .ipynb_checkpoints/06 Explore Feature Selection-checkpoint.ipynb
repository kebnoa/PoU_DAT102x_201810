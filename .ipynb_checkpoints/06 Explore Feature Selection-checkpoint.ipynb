{
 "cells": [
  {
   "cell_type": "markdown",
   "metadata": {},
   "source": [
    "# 06 Explore Feature selection\n",
    "Used the cleaned, scaled, and normalised data to train a model.\n",
    "\n",
    "**Disclaimer.** I used AzureML for this step. My trail expired one week before the end of the competition so I started using SciKit Learn. I submitted results from here to the competition but never bettered the score I got via AzureML even though the RMSE scores were comparable. I can only assume that I was overtraining here!\n",
    "\n",
    "## Initialise the styles for the workbooks"
   ]
  },
  {
   "cell_type": "code",
   "execution_count": 1,
   "metadata": {},
   "outputs": [
    {
     "data": {
      "text/html": [
       "<style>\n",
       "    @font-face {\n",
       "        font-family: \"Computer Modern\";\n",
       "        src: url('http://mirrors.ctan.org/fonts/cm-unicode/fonts/otf/cmunss.otf');\n",
       "    }\n",
       "    div.cell{\n",
       "        width: 90%;\n",
       "/*        margin-left:auto;*/\n",
       "/*        margin-right:auto;*/\n",
       "    }\n",
       "    ul {\n",
       "        line-height: 145%;\n",
       "        font-size: 90%;\n",
       "    }\n",
       "    li {\n",
       "        margin-bottom: 1em;\n",
       "    }\n",
       "    h1 {\n",
       "        font-family: Helvetica, serif;\n",
       "    }\n",
       "    h4{\n",
       "        margin-top: 12px;\n",
       "        margin-bottom: 3px;\n",
       "       }\n",
       "    div.text_cell_render{\n",
       "        font-family: Computer Modern, \"Helvetica Neue\", Arial, Helvetica, Geneva, sans-serif;\n",
       "        line-height: 145%;\n",
       "        font-size: 130%;\n",
       "        width: 90%;\n",
       "        margin-left:auto;\n",
       "        margin-right:auto;\n",
       "    }\n",
       "    .CodeMirror{\n",
       "            font-family: \"Source Code Pro\", source-code-pro,Consolas, monospace;\n",
       "    }\n",
       "/*    .prompt{\n",
       "        display: None;\n",
       "    }*/\n",
       "    .text_cell_render h5 {\n",
       "        font-weight: 300;\n",
       "        font-size: 16pt;\n",
       "        color: #4057A1;\n",
       "        font-style: italic;\n",
       "        margin-bottom: 0.5em;\n",
       "        margin-top: 0.5em;\n",
       "        display: block;\n",
       "    }\n",
       "\n",
       "    .warning{\n",
       "        color: rgb( 240, 20, 20 )\n",
       "        }\n",
       "</style>\n",
       "<script>\n",
       "    MathJax.Hub.Config({\n",
       "                        TeX: {\n",
       "                           extensions: [\"AMSmath.js\"]\n",
       "                           },\n",
       "                tex2jax: {\n",
       "                    inlineMath: [ ['$','$'], [\"\\\\(\",\"\\\\)\"] ],\n",
       "                    displayMath: [ ['$$','$$'], [\"\\\\[\",\"\\\\]\"] ]\n",
       "                },\n",
       "                displayAlign: 'center', // Change this to 'center' to center equations.\n",
       "                \"HTML-CSS\": {\n",
       "                    styles: {'.MathJax_Display': {\"margin\": 4}}\n",
       "                }\n",
       "        });\n",
       "</script>"
      ],
      "text/plain": [
       "<IPython.core.display.HTML object>"
      ]
     },
     "execution_count": 1,
     "metadata": {},
     "output_type": "execute_result"
    }
   ],
   "source": [
    "# Initialise styles and packages we need\n",
    "from IPython.core.display import HTML\n",
    "def css_styling():\n",
    "    styles = open(\"styles/custom.css\", \"r\").read()\n",
    "    return HTML(styles)\n",
    "css_styling()"
   ]
  },
  {
   "cell_type": "markdown",
   "metadata": {},
   "source": [
    "## Imports and classes used"
   ]
  },
  {
   "cell_type": "code",
   "execution_count": 2,
   "metadata": {},
   "outputs": [
    {
     "name": "stdout",
     "output_type": "stream",
     "text": [
      "Pandas version:       0.23.4\n"
     ]
    }
   ],
   "source": [
    "# All the imports used\n",
    "import pandas as pd\n",
    "from sklearn import preprocessing\n",
    "from sklearn.model_selection import train_test_split\n",
    "from sklearn.neural_network import MLPRegressor\n",
    "from sklearn import metrics\n",
    "from sklearn.model_selection import cross_val_score\n",
    "from sklearn.model_selection import GridSearchCV\n",
    "\n",
    "print(\"Pandas version:       {}\".format(pd.__version__))\n",
    "#print(\"Scikit learn version: {}\".format(sklearn.__version__))"
   ]
  },
  {
   "cell_type": "markdown",
   "metadata": {},
   "source": [
    "## Import cleaned, scaled and normalised data we created in 03 Data Scaling and Normalising"
   ]
  },
  {
   "cell_type": "code",
   "execution_count": 3,
   "metadata": {},
   "outputs": [
    {
     "name": "stdout",
     "output_type": "stream",
     "text": [
      "Training values: (1311, 19)\n",
      "Training label: (1401, 2)\n",
      "Test values:     (616, 19)\n",
      "   row_id country_code  year  agricultural_land_area  forest_area  \\\n",
      "0       0      889f053  2002                0.644849     0.326591   \n",
      "1       1      9e614ab  2012                0.393423     0.598121   \n",
      "2       2      100c476  2000                0.013088     0.099657   \n",
      "3       3      4609682  2013                0.545174     0.371419   \n",
      "4       4      be2a7f5  2008                0.059169     0.177130   \n",
      "\n",
      "   total_land_area  population_growth  avg_value_of_food_production  \\\n",
      "0         0.522760           0.555582                      0.221955   \n",
      "1         0.435434           0.463276                      0.583676   \n",
      "2         0.017267           0.515693                      0.360597   \n",
      "3         0.396593           0.455697                      0.647380   \n",
      "4         0.039847           0.379837                      0.672717   \n",
      "\n",
      "   food_imports_as_share_of_merch_exports  \\\n",
      "0                                0.412590   \n",
      "1                                0.270031   \n",
      "2                                0.573186   \n",
      "3                                0.314796   \n",
      "4                                0.615790   \n",
      "\n",
      "   gross_domestic_product_per_capita_ppp  per_capita_food_supply_variability  \\\n",
      "0                               0.343225                            0.348034   \n",
      "1                               0.367934                            0.495084   \n",
      "2                               0.644420                            0.348249   \n",
      "3                               0.534370                            0.356623   \n",
      "4                               0.528860                            0.710241   \n",
      "\n",
      "   avg_supply_of_protein_of_animal_origin  \\\n",
      "0                                0.247253   \n",
      "1                                0.310009   \n",
      "2                                0.729224   \n",
      "3                                0.511734   \n",
      "4                                0.768029   \n",
      "\n",
      "   caloric_energy_from_cereals_roots_tubers  access_to_improved_sanitation  \\\n",
      "0                                  0.672182                       0.360459   \n",
      "1                                  0.739436                       0.581735   \n",
      "2                                  0.089336                       0.825776   \n",
      "3                                  0.453211                       0.896377   \n",
      "4                                  0.189920                       0.770917   \n",
      "\n",
      "   access_to_improved_water_sources  obesity_prevalence  \\\n",
      "0                          0.381366            0.339888   \n",
      "1                          0.566625            0.113026   \n",
      "2                          0.938416            0.595430   \n",
      "3                          0.910661            0.681353   \n",
      "4                          0.898450            0.621013   \n",
      "\n",
      "   access_to_electricity  co2_emissions  ratio_urban_population_total  \n",
      "0               0.514125       0.501945                      0.269132  \n",
      "1               0.762074       0.281082                      0.351608  \n",
      "2               0.893837       0.120386                      0.319509  \n",
      "3               0.971112       0.558871                      0.650169  \n",
      "4               0.901481       0.028361                      0.669631  \n"
     ]
    }
   ],
   "source": [
    "final_scaled_normalised_training_values_filename = 'data/DAT102x_Predicting_Chronic_Hunger_-_Clean_Normal_Training_values.csv'\n",
    "training_labels_filename = 'data/DAT102x_Predicting_Chronic_Hunger_-_Training_labels.csv'\n",
    "final_scaled_normalised_test_values_filename = 'data/DAT102x_Predicting_Chronic_Hunger_-_Clean_Normal_Test_values.csv'\n",
    "\n",
    "training_values = pd.read_csv(final_scaled_normalised_training_values_filename)\n",
    "training_labels = pd.read_csv(training_labels_filename)\n",
    "test_values = pd.read_csv(final_scaled_normalised_test_values_filename)\n",
    "\n",
    "# Makes sure country_code and year are treated as categorical!\n",
    "training_values['country_code'] = training_values['country_code'].astype('category')\n",
    "training_values['year'] = training_values['year'].astype('category')\n",
    "test_values['country_code'] = test_values['country_code'].astype('category')\n",
    "test_values['year'] = test_values['year'].astype('category')\n",
    "\n",
    "print(\"Training values: {}\".format(training_values.shape))\n",
    "print(\"Training label: {}\".format(training_labels.shape))\n",
    "print(\"Test values:     {}\".format(test_values.shape))\n",
    "print(training_values.head())\n",
    "#print(training_values.dtypes)"
   ]
  },
  {
   "cell_type": "markdown",
   "metadata": {},
   "source": [
    "## All the steps below is one example of trying to improve the model\n",
    "That is, this is one run of tuning I tried as an example.\n",
    "\n",
    "In this specific case I limted the feature set to only:\n",
    "* access_to_improved_water_sources\n",
    "* access_to_electricity\n",
    "* gross_domestic_product_per_capita_ppp\n",
    "* avg_supply_of_protein_of_animal_origin\n",
    "* caloric_energy_from_cereals_roots_tubers"
   ]
  },
  {
   "cell_type": "code",
   "execution_count": 4,
   "metadata": {},
   "outputs": [
    {
     "name": "stdout",
     "output_type": "stream",
     "text": [
      "Index(['row_id', 'country_code', 'year', 'agricultural_land_area',\n",
      "       'forest_area', 'total_land_area', 'population_growth',\n",
      "       'avg_value_of_food_production',\n",
      "       'food_imports_as_share_of_merch_exports',\n",
      "       'gross_domestic_product_per_capita_ppp',\n",
      "       'per_capita_food_supply_variability',\n",
      "       'avg_supply_of_protein_of_animal_origin',\n",
      "       'caloric_energy_from_cereals_roots_tubers',\n",
      "       'access_to_improved_sanitation', 'access_to_improved_water_sources',\n",
      "       'obesity_prevalence', 'access_to_electricity', 'co2_emissions',\n",
      "       'ratio_urban_population_total'],\n",
      "      dtype='object')\n",
      "(1311, 6)\n",
      "(616, 6)\n",
      "   row_id  access_to_improved_water_sources  access_to_electricity  \\\n",
      "0       0                          0.381366               0.514125   \n",
      "1       1                          0.566625               0.762074   \n",
      "2       2                          0.938416               0.893837   \n",
      "3       3                          0.910661               0.971112   \n",
      "4       4                          0.898450               0.901481   \n",
      "\n",
      "   gross_domestic_product_per_capita_ppp  \\\n",
      "0                               0.343225   \n",
      "1                               0.367934   \n",
      "2                               0.644420   \n",
      "3                               0.534370   \n",
      "4                               0.528860   \n",
      "\n",
      "   avg_supply_of_protein_of_animal_origin  \\\n",
      "0                                0.247253   \n",
      "1                                0.310009   \n",
      "2                                0.729224   \n",
      "3                                0.511734   \n",
      "4                                0.768029   \n",
      "\n",
      "   caloric_energy_from_cereals_roots_tubers  \n",
      "0                                  0.672182  \n",
      "1                                  0.739436  \n",
      "2                                  0.089336  \n",
      "3                                  0.453211  \n",
      "4                                  0.189920  \n"
     ]
    }
   ],
   "source": [
    "print(training_values.columns)\n",
    "features_to_use = ['row_id',\n",
    "                   'access_to_improved_water_sources',\n",
    "                   'access_to_electricity',\n",
    "                   'gross_domestic_product_per_capita_ppp',\n",
    "                   'avg_supply_of_protein_of_animal_origin',\n",
    "                   'caloric_energy_from_cereals_roots_tubers']\n",
    "\n",
    "TFVals = training_values[features_to_use]\n",
    "TestVals = test_values[features_to_use]\n",
    "print(TFVals.shape)\n",
    "print(TestVals.shape)\n",
    "\n",
    "print(TFVals.head())"
   ]
  },
  {
   "cell_type": "markdown",
   "metadata": {},
   "source": [
    "## Add the label values to the training features"
   ]
  },
  {
   "cell_type": "code",
   "execution_count": 5,
   "metadata": {},
   "outputs": [
    {
     "name": "stdout",
     "output_type": "stream",
     "text": [
      "(1311, 7)\n"
     ]
    }
   ],
   "source": [
    "tempDF = pd.merge(TFVals, training_labels, on='row_id', how='inner')\n",
    "print(tempDF.shape)"
   ]
  },
  {
   "cell_type": "markdown",
   "metadata": {},
   "source": [
    "## Prepare the training feature matrix and training label vector\n",
    "I didn't actually time this, but using .values converts the DataFrame to an numpy Array and apparently improves the performace of SciKit Learn. Long way of saying that even though SciKit Learn handles DataFrames it should be more efficient to convert before calling SciKit Learn modules."
   ]
  },
  {
   "cell_type": "code",
   "execution_count": 6,
   "metadata": {},
   "outputs": [
    {
     "name": "stdout",
     "output_type": "stream",
     "text": [
      "[[0.38136639 0.51412482 0.34322496 0.24725323 0.67218215]\n",
      " [0.5666249  0.7620736  0.3679343  0.31000858 0.73943552]\n",
      " [0.93841623 0.89383726 0.64441976 0.72922355 0.08933629]\n",
      " ...\n",
      " [0.6404953  0.90820707 0.41870264 0.65127939 0.31108026]\n",
      " [0.91747038 0.94717855 0.66192119 0.80430425 0.09206421]\n",
      " [0.70355405 0.22182681 0.26482206 0.26398007 0.90993425]]\n",
      "[31.26071279 18.29823274 39.51339713 ... 12.08848436 26.43666106\n",
      " 13.71256945]\n"
     ]
    }
   ],
   "source": [
    "X = pd.get_dummies(TFVals.iloc[:,1:len(TFVals)]).values\n",
    "y = tempDF['prevalence_of_undernourishment'].values\n",
    "print(X)\n",
    "print(y)"
   ]
  },
  {
   "cell_type": "markdown",
   "metadata": {},
   "source": [
    "## Spilt data, train model, predict, cross validate\n",
    "Check result of this reduced feature set. Not actually tuning, more like feature selection."
   ]
  },
  {
   "cell_type": "code",
   "execution_count": 7,
   "metadata": {},
   "outputs": [],
   "source": [
    "X_train, X_test, y_train, y_test = train_test_split(X, y, random_state=42)"
   ]
  },
  {
   "cell_type": "code",
   "execution_count": 8,
   "metadata": {},
   "outputs": [
    {
     "name": "stdout",
     "output_type": "stream",
     "text": [
      "MLPRegressor(activation='identity', alpha=0.0001, batch_size='auto',\n",
      "       beta_1=0.9, beta_2=0.999, early_stopping=False, epsilon=1e-08,\n",
      "       hidden_layer_sizes=300, learning_rate='constant',\n",
      "       learning_rate_init=0.001, max_iter=500, momentum=0.9,\n",
      "       n_iter_no_change=10, nesterovs_momentum=True, power_t=0.5,\n",
      "       random_state=None, shuffle=True, solver='adam', tol=0.0001,\n",
      "       validation_fraction=0.1, verbose=False, warm_start=False)\n"
     ]
    }
   ],
   "source": [
    "nn = MLPRegressor(hidden_layer_sizes=300, max_iter=500, verbose=False, activation='identity', solver='adam')\n",
    "print(nn)"
   ]
  },
  {
   "cell_type": "code",
   "execution_count": 9,
   "metadata": {},
   "outputs": [
    {
     "data": {
      "text/plain": [
       "MLPRegressor(activation='identity', alpha=0.0001, batch_size='auto',\n",
       "       beta_1=0.9, beta_2=0.999, early_stopping=False, epsilon=1e-08,\n",
       "       hidden_layer_sizes=300, learning_rate='constant',\n",
       "       learning_rate_init=0.001, max_iter=500, momentum=0.9,\n",
       "       n_iter_no_change=10, nesterovs_momentum=True, power_t=0.5,\n",
       "       random_state=None, shuffle=True, solver='adam', tol=0.0001,\n",
       "       validation_fraction=0.1, verbose=False, warm_start=False)"
      ]
     },
     "execution_count": 9,
     "metadata": {},
     "output_type": "execute_result"
    }
   ],
   "source": [
    "nn.fit(X_train, y_train)"
   ]
  },
  {
   "cell_type": "code",
   "execution_count": 10,
   "metadata": {},
   "outputs": [
    {
     "name": "stdout",
     "output_type": "stream",
     "text": [
      "7.650445849531831\n"
     ]
    }
   ],
   "source": [
    "y_pred = nn.predict(X_test)\n",
    "print((metrics.mean_squared_error(y_test,y_pred))**0.5)"
   ]
  },
  {
   "cell_type": "code",
   "execution_count": 11,
   "metadata": {},
   "outputs": [
    {
     "name": "stdout",
     "output_type": "stream",
     "text": [
      "RMSE: 7.67 (+/- 6.91)\n"
     ]
    }
   ],
   "source": [
    "# Basically search across 10 fold to find best \"Model\"!?\n",
    "scores = cross_val_score(nn, X, y, cv=10, scoring='neg_mean_squared_error')\n",
    "print(\"RMSE: %0.2f (+/- %0.2f)\" % ((abs(scores.mean())**0.5), (abs(scores.std())**0.5) * 2))"
   ]
  },
  {
   "cell_type": "code",
   "execution_count": 12,
   "metadata": {},
   "outputs": [
    {
     "name": "stdout",
     "output_type": "stream",
     "text": [
      "MLPRegressor(activation='identity', alpha=0.0001, batch_size='auto',\n",
      "       beta_1=0.9, beta_2=0.999, early_stopping=False, epsilon=1e-08,\n",
      "       hidden_layer_sizes=300, learning_rate='constant',\n",
      "       learning_rate_init=0.001, max_iter=500, momentum=0.9,\n",
      "       n_iter_no_change=10, nesterovs_momentum=True, power_t=0.5,\n",
      "       random_state=None, shuffle=True, solver='adam', tol=0.0001,\n",
      "       validation_fraction=0.1, verbose=False, warm_start=False)\n"
     ]
    }
   ],
   "source": [
    "print(nn)"
   ]
  },
  {
   "cell_type": "markdown",
   "metadata": {},
   "source": [
    "## Train on full dataset and predict PoU of test set."
   ]
  },
  {
   "cell_type": "code",
   "execution_count": 13,
   "metadata": {},
   "outputs": [
    {
     "name": "stdout",
     "output_type": "stream",
     "text": [
      "RMSE: 7.67 (+/- 6.89)\n"
     ]
    }
   ],
   "source": [
    "nn.fit(X, y)\n",
    "\n",
    "scores = cross_val_score(nn, X, y, cv=10, scoring='neg_mean_squared_error')\n",
    "print(\"RMSE: %0.2f (+/- %0.2f)\" % ((abs(scores.mean())**0.5), (abs(scores.std())**0.5) * 2))"
   ]
  },
  {
   "cell_type": "code",
   "execution_count": 14,
   "metadata": {},
   "outputs": [],
   "source": [
    "# Use trained model to predict outcome?\n",
    "X_test = pd.get_dummies(TestVals.iloc[:,1:len(TestVals)]).values\n",
    "y_pred = nn.predict(X_test)"
   ]
  },
  {
   "cell_type": "code",
   "execution_count": 15,
   "metadata": {},
   "outputs": [
    {
     "name": "stdout",
     "output_type": "stream",
     "text": [
      "[-2.34721932e+00  2.56692110e+00  2.89906933e+00  2.32339838e+01\n",
      "  2.71924265e+01  1.77004153e+01  1.85244483e+01  2.85530530e+01\n",
      "  2.98416975e+01  3.76393784e+01  2.59813130e+00  8.44050997e+00\n",
      "  1.18646038e+01  1.23621640e+00  2.55368945e+01  2.35386380e+01\n",
      "  3.51971789e+01  2.59530865e+00  7.29717566e+00  1.95005766e+01\n",
      "  2.26635000e+01  2.21050864e+01  1.72578505e+00  2.65039768e+00\n",
      "  3.76717585e+00  2.08394626e+01  2.62032466e+01  1.10093351e+01\n",
      " -4.43978233e-01  3.34026621e+00  4.48274765e+00  3.07837059e+00\n",
      "  3.57910832e+00  9.24112480e+00  4.10313022e+00  3.06048238e+01\n",
      "  3.35998414e+01  8.43858414e-01  7.93740865e+00  2.98824232e+01\n",
      "  2.30447046e+01  3.19295688e+01  6.08758108e+00  4.57154904e+00\n",
      "  7.09102976e+00  1.69778883e+01  2.49323058e+01  4.84546203e+00\n",
      "  3.17849271e+01  2.68577583e+01  4.64774185e+00  5.98955530e+00\n",
      "  4.52563621e+00  1.03909147e+01  2.12377354e+01  3.22840774e+00\n",
      "  2.07077980e+00  2.70348770e+00  2.80357714e+01  5.37111084e+00\n",
      "  2.15684533e+01  2.18132970e+01  1.89973075e+01  2.27212652e+01\n",
      "  2.07596144e+01  7.65023553e+00 -4.29915635e-01  5.53084870e+00\n",
      "  2.15457321e-01  1.97285038e+01  5.74039381e+00  2.67325509e+01\n",
      "  9.11974586e+00  1.51805260e+01  2.53113887e+01  3.11668869e+00\n",
      "  2.35832656e+01  2.58637845e+01  2.41871297e+00  7.07702837e+00\n",
      "  9.65931586e+00  2.24461296e+01  1.13815626e+01  3.20352503e+01\n",
      "  2.87904403e+01  2.74784498e+01  6.54811553e+00  2.13228752e+00\n",
      "  6.53244325e+00  3.44347513e+01  3.94518322e+00  3.92597309e+00\n",
      "  3.16959073e+01  3.05756527e+00  1.85868985e+01  2.68585964e+00\n",
      "  2.18009934e+01  2.45677899e+01 -2.12549531e+00  7.05441160e+00\n",
      "  5.53356367e+00  5.23567528e+00  3.16470232e+01  1.15081008e+01\n",
      "  2.25664445e+01  1.82520801e+01  5.53935393e+00  5.32473323e+00\n",
      "  1.56153546e+01  2.68939792e+01  2.26744231e+01  5.57128776e+00\n",
      "  1.02456271e+01  2.50555701e+01  2.89933746e+01  3.01242364e+01\n",
      "  7.13659038e+00  1.40540644e+00  4.75869232e+00  2.48896020e+00\n",
      "  9.33958760e+00  3.16524057e+01  8.14880427e+00  2.70365687e+01\n",
      "  4.97734887e+00 -3.97585347e-01  6.00131104e-01 -2.19622581e+00\n",
      "  2.42337946e+01  8.64726698e+00  2.73798135e+01  2.28342113e+01\n",
      "  5.76703165e+00  4.82199799e+00  1.84837146e+01  3.88653780e+01\n",
      "  2.94426202e+01  1.90517677e+01  9.94763645e+00  3.04860306e+01\n",
      "  7.89024772e+00  3.67696088e+00  2.12997104e+01  3.22967125e+01\n",
      "  2.23457730e+01  6.15657849e+00  1.00851269e+01  2.97385984e+00\n",
      "  1.69076558e+01 -1.45640486e+00  1.65509274e+01  9.05292404e+00\n",
      " -8.98002986e-01  8.50844802e+00  4.44550928e+00  2.37570550e+01\n",
      "  3.16477518e+01  2.95971261e+01  1.29762079e+01  1.18240273e+01\n",
      " -1.69068637e-01  3.22916403e+01  9.23611659e+00 -5.96809841e-01\n",
      "  8.69793276e+00  9.97566556e+00  1.03960463e+01  1.88037679e+01\n",
      "  1.60407019e+00  1.76687972e+01  3.76686484e+01  2.69191877e+00\n",
      "  1.31486286e+01  9.28725920e+00  2.87914496e+00  2.31917429e+01\n",
      "  6.46779342e-01  6.19014272e+00  2.86270708e+01  2.53902981e+01\n",
      " -2.10801394e-01  1.92959404e+01  1.27678662e+01  2.32563904e+01\n",
      "  2.00857928e+01  2.77528579e+01  1.08570846e+01  2.93885040e+00\n",
      "  2.94367178e+00  1.81749797e+01  1.63635546e+01  1.35090528e+01\n",
      " -5.60256252e-01  1.95475774e+01  9.28754992e+00  2.69159859e+00\n",
      "  1.74417126e+01  3.12879921e+01  2.53737757e+01  9.40433426e+00\n",
      "  1.41611424e+01  7.72731984e+00  2.09039307e+01  3.09846381e+01\n",
      "  2.98946117e+01  7.35691472e-01  4.97512388e+00  1.30727534e+00\n",
      "  3.08196484e+01  4.28982749e+00  3.27278591e+01  6.53871009e+00\n",
      "  7.01939287e+00  1.03547394e+01  1.81455602e+01  2.42516006e+00\n",
      "  3.83861727e+01  1.26593993e+01  9.06408975e+00  8.78006461e+00\n",
      "  2.54962484e+01  3.05733525e+01  7.68173094e+00  3.08478030e+01\n",
      "  7.87692770e+00  2.19169845e+01  2.73255444e-01  1.49377926e+01\n",
      "  8.23469234e+00  2.53551489e+01  3.05342651e+01  4.22463791e+00\n",
      "  2.44723624e+01  2.59359050e+01 -3.55446785e-01  3.14036292e+01\n",
      "  1.30731796e+01 -1.83653002e+00  1.47320109e+01  2.38898970e+01\n",
      "  6.35061158e+00  3.00700217e+00  2.37782184e+01  9.68086902e+00\n",
      "  2.31752426e+01  7.72679687e+00  2.86902368e+00 -2.42425519e+00\n",
      "  2.19494662e+01  8.05031003e+00  3.46881491e+00  4.48750281e+00\n",
      "  3.10432228e+00  3.00649053e+01  2.70989872e+00  1.23098043e+00\n",
      "  6.24333853e+00  2.99849468e+01  2.65269168e+01  1.21429923e+01\n",
      "  1.78152505e+01  2.16555811e+01  2.52506954e+01  4.61354210e-01\n",
      " -1.29401218e+00  4.91991838e+00  5.06623783e+00  1.53904618e+01\n",
      "  2.66763362e+01  2.40642934e+01  2.05923615e+01  2.21269039e+01\n",
      "  6.02981700e+00  5.95414884e+00  2.07924572e+01  2.76899472e+01\n",
      "  1.36289268e+01  3.62913014e+01  9.68663922e+00  6.57949543e+00\n",
      "  2.77721414e+01  1.19706846e+01  9.19086213e+00  5.29307853e+00\n",
      "  4.24567338e+00  2.99167993e+01  1.01879700e+01  2.82993532e+01\n",
      "  2.21820600e+01  1.43534989e+01  1.94534830e+01  7.97708836e+00\n",
      "  1.06137157e+01  8.43309412e+00  2.15895622e+01  1.87922677e+01\n",
      " -2.54112409e-01  1.10741345e+01  4.64272364e+00  2.15505756e+01\n",
      "  7.23654955e+00  3.09951024e+01  1.32361220e+01  8.71950061e+00\n",
      "  1.88976969e+01  3.37003496e-01  3.16577929e+01  3.86292511e+00\n",
      "  2.68768824e+01  4.89969912e+00  1.78062019e+01  2.45079922e+01\n",
      " -2.94767732e+00  1.88466090e+01 -1.27993429e+00  3.02703602e+01\n",
      " -1.82430198e+00  1.91735123e+01  3.19967953e+01  9.78533630e+00\n",
      " -2.98926230e+00  2.15027817e+01  2.80485639e+01  2.40162906e+01\n",
      "  2.32728424e+01  2.17038211e+01  5.53207929e+00  1.91714340e+01\n",
      "  1.06171935e+01  1.48570967e+01  2.05258088e+00  3.18569341e+01\n",
      "  3.44550263e+01  1.97346088e+01  8.23640774e+00  7.28660461e+00\n",
      "  6.12508727e+00  1.99346449e+00  2.47306449e+01  2.62806997e+01\n",
      "  2.41875647e+01 -2.56354678e+00  3.11623522e+01  5.14509241e+00\n",
      "  3.33581498e+01  1.46462800e+01  1.00973563e+01  1.39521829e+00\n",
      "  1.56894678e+01  3.31896325e+01  8.74449987e+00  2.11854696e+00\n",
      "  3.01669625e+01  3.80419933e+01  8.92691595e+00  2.47265424e+00\n",
      "  2.20344861e+00  2.72581802e+01  2.04198670e+01  2.56379407e+00\n",
      " -2.21546196e+00 -1.12125346e-01  2.83106977e+01  6.69356074e+00\n",
      "  9.14390691e+00  6.04221446e+00  3.34443562e-01  1.89592864e+01\n",
      "  1.50495581e+01  1.08661298e+01  3.66287352e+01  6.85684419e+00\n",
      "  8.09853068e+00  3.21031515e+01  2.05630978e+01  4.71786523e+00\n",
      "  2.14202455e+01  1.71466206e+01  1.85359711e+00  2.83483897e+01\n",
      "  2.16284190e+00  3.71997112e+00  3.08244806e+01  5.50568483e+00\n",
      "  1.83843256e+01  2.93920508e+01  1.03835631e+01  3.02576980e+00\n",
      "  1.40253275e+00  9.20165533e+00  4.30525984e+00  1.99197811e+01\n",
      "  1.92596513e+01  9.11751979e+00  7.92716167e+00 -1.47990848e+00\n",
      "  1.35867056e+01  3.00713322e+01  1.02051187e+01  4.77904484e+00\n",
      "  2.41651396e+01  1.24409490e+01  3.21938985e+01  1.80951842e+01\n",
      "  7.56391792e+00  3.66364452e+01  6.84908805e+00  1.94665872e+01\n",
      "  1.09743658e+01  1.46385555e+01  2.29285112e+01  1.92251057e+01\n",
      "  1.69648848e+01  7.43180406e+00  7.84996386e+00  3.79192424e+01\n",
      "  5.47854988e+00  1.52173098e+01  2.68106879e+01  9.33267123e+00\n",
      "  6.45030435e+00  5.71837259e+00  2.32483269e+01  1.42093247e+01\n",
      "  3.32850097e+00  2.33541384e+01  5.12760553e+00  2.45967035e+01\n",
      "  3.57467191e+01  1.47027042e+01  3.37573637e+01 -1.82378216e-01\n",
      "  3.77093462e+00  3.11916581e+01  5.46626440e+00  5.51260565e+00\n",
      "  2.65223080e+00  6.67875393e+00  3.02181698e+01  2.12642882e+00\n",
      "  2.10786212e+01  1.35846293e+01  2.19014239e+01  7.69557429e+00\n",
      "  4.72808538e+00  2.83275624e+01  8.63420621e-01  2.07574967e+00\n",
      "  6.80743944e+00  2.28950691e+01  6.81803320e+00  3.06637330e+01\n",
      "  2.86633468e+01 -2.87431458e-02  1.02409722e+01  1.87092897e+01\n",
      "  1.22614184e+01  3.00858674e+00  2.22707392e+01  2.47307078e+01\n",
      "  2.33135734e+00  1.84703040e+01  1.93726465e+01  1.58190163e+01\n",
      "  1.96499541e+01  7.48078800e+00  3.13435486e+01  7.87864731e+00\n",
      "  8.56797748e+00  8.30855666e-01  3.35067079e+00  5.37256532e+00\n",
      "  2.68081123e+01  2.33618732e+01  1.84714128e+01  2.98001629e+01\n",
      "  6.32199238e+00  1.91047482e+01 -1.03525350e+00 -1.08540651e+00\n",
      "  2.78965885e+00  1.67342308e+01  2.80349265e+01 -2.63540578e+00\n",
      "  6.38095445e+00  3.04137429e+01  8.71527055e+00  2.27052665e+01\n",
      "  2.41212864e+01  1.99870559e+01 -6.19058042e-01  1.92670616e+01\n",
      "  3.28380535e+01  3.08039113e+01  1.83260647e+01  2.92262474e+00\n",
      "  1.57453203e+01  2.29931193e+01  2.72437668e+00  1.06744684e+01\n",
      "  5.57410828e-01  2.58685102e+01  2.06480233e+01  8.23459777e+00\n",
      "  1.55309152e+00 -2.39149602e+00  4.60972465e+00  7.95802395e-01\n",
      "  9.92643142e+00  7.70399597e+00  1.10161623e+01  6.44784285e+00\n",
      "  5.03079704e-01  5.26779804e+00  5.36148378e+00  7.99421964e+00\n",
      "  1.47887546e+01  2.48748283e+01  2.59628016e+00  3.31968791e+01\n",
      "  3.66946968e+01  1.37070158e+01  1.86803674e+01  3.64850736e+01\n",
      "  2.78763311e+00  1.98573926e+01  3.07702643e+01  3.61088223e+00\n",
      "  1.23934304e+00  3.37762966e+01  1.25567197e+01  1.50103268e+01\n",
      "  5.58470466e+00  2.61290557e+01  2.08252420e+01  2.17120548e+01\n",
      "  5.09465719e+00  1.82794249e+01  1.03012822e+01  3.69567243e+00\n",
      "  3.72237062e+01  1.76298153e+00  7.26792376e+00  5.40714266e+00\n",
      "  3.46390625e+00  1.02899471e+01  7.04360060e+00  3.86522697e+01\n",
      "  6.47317510e+00  1.90735231e+00  7.95236869e+00 -1.41694669e+00\n",
      "  2.47843806e+01  3.60853584e+01  3.23202000e+01  3.20258723e+01\n",
      "  1.62218382e+01  5.71731204e+00  1.13624674e+01  8.46937939e+00\n",
      "  2.08843193e+01  8.93001305e+00  2.64182666e+00  1.09339926e+00\n",
      "  3.68402405e+01  1.57401298e+01  1.83406167e+00  3.23331451e+01\n",
      "  3.62629799e+01  2.29589043e+01  2.21246809e+01  3.12403504e+00\n",
      "  2.28249252e+01  3.21856329e+01  4.72577209e+00  3.86422620e+00\n",
      "  2.49235993e+01  1.82369297e+00 -1.12883409e+00  2.22697890e+00\n",
      "  6.72634524e+00  8.23038614e+00  8.04865573e+00  1.78287232e+01\n",
      "  2.96922549e+00  2.46790632e+01  1.73080353e+01  3.16064823e+01\n",
      "  2.43378069e+01  2.18728523e+01  4.20596505e+00  2.41927946e+01\n",
      "  1.47685090e+01  7.61891395e+00  8.72849909e+00  3.13608616e+01\n",
      "  2.62604183e+01  8.33389433e+00  3.06050663e+01  2.26110834e+00\n",
      "  1.06216442e+01  1.16704685e+01  5.53078099e+00  1.91742133e+00\n",
      "  1.51305574e+01  4.98093018e+00  3.08631231e+01  5.75699627e+00\n",
      "  2.24656291e+01  4.98491500e+00  1.82650162e+00  1.70957404e+01\n",
      "  1.03921611e+00  1.34101400e+01  7.10900682e+00  3.54543762e+01]\n"
     ]
    }
   ],
   "source": [
    "print(y_pred)"
   ]
  },
  {
   "cell_type": "markdown",
   "metadata": {},
   "source": [
    "## Shape into output format and export as CSV to disk"
   ]
  },
  {
   "cell_type": "code",
   "execution_count": 16,
   "metadata": {},
   "outputs": [
    {
     "name": "stdout",
     "output_type": "stream",
     "text": [
      "<class 'pandas.core.frame.DataFrame'>\n",
      "<class 'pandas.core.frame.DataFrame'>\n",
      "<class 'pandas.core.frame.DataFrame'>\n",
      "   row_id  prevalence_of_undernourishment\n",
      "0       0                       -2.347219\n",
      "1       1                        2.566921\n",
      "2       2                        2.899069\n",
      "3       3                       23.233984\n",
      "4       4                       27.192426\n"
     ]
    }
   ],
   "source": [
    "pred = pd.DataFrame(pd.Series(y_pred), columns=['prevalence_of_undernourishment'])\n",
    "row = pd.DataFrame(test_values['row_id'].copy(), columns=['row_id'])\n",
    "res = pd.concat([row, pred], axis='columns')\n",
    "print(type(pred))\n",
    "print(type(row))\n",
    "print(type(res))\n",
    "print(res.head())\n"
   ]
  },
  {
   "cell_type": "code",
   "execution_count": 17,
   "metadata": {},
   "outputs": [],
   "source": [
    "res.to_csv('prediction-20181031-01.csv', index=False)"
   ]
  }
 ],
 "metadata": {
  "kernelspec": {
   "display_name": "Python 3",
   "language": "python",
   "name": "python3"
  },
  "language_info": {
   "codemirror_mode": {
    "name": "ipython",
    "version": 3
   },
   "file_extension": ".py",
   "mimetype": "text/x-python",
   "name": "python",
   "nbconvert_exporter": "python",
   "pygments_lexer": "ipython3",
   "version": "3.7.0"
  }
 },
 "nbformat": 4,
 "nbformat_minor": 2
}
