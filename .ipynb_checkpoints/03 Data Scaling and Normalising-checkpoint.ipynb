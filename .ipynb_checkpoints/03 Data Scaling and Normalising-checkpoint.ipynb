{
 "cells": [
  {
   "cell_type": "markdown",
   "metadata": {},
   "source": [
    "# 03 Data Scaling and Normalising\n",
    "Although not all models need scaling and/or normalising as we want to use Neural Network it is best to make the transformations up front.\n",
    "\n",
    "## Initialise the styles for the workbooks"
   ]
  },
  {
   "cell_type": "code",
   "execution_count": 1,
   "metadata": {},
   "outputs": [
    {
     "data": {
      "text/html": [
       "<style>\n",
       "    @font-face {\n",
       "        font-family: \"Computer Modern\";\n",
       "        src: url('http://mirrors.ctan.org/fonts/cm-unicode/fonts/otf/cmunss.otf');\n",
       "    }\n",
       "    div.cell{\n",
       "        width: 90%;\n",
       "/*        margin-left:auto;*/\n",
       "/*        margin-right:auto;*/\n",
       "    }\n",
       "    ul {\n",
       "        line-height: 145%;\n",
       "        font-size: 90%;\n",
       "    }\n",
       "    li {\n",
       "        margin-bottom: 1em;\n",
       "    }\n",
       "    h1 {\n",
       "        font-family: Helvetica, serif;\n",
       "    }\n",
       "    h4{\n",
       "        margin-top: 12px;\n",
       "        margin-bottom: 3px;\n",
       "       }\n",
       "    div.text_cell_render{\n",
       "        font-family: Computer Modern, \"Helvetica Neue\", Arial, Helvetica, Geneva, sans-serif;\n",
       "        line-height: 145%;\n",
       "        font-size: 130%;\n",
       "        width: 90%;\n",
       "        margin-left:auto;\n",
       "        margin-right:auto;\n",
       "    }\n",
       "    .CodeMirror{\n",
       "            font-family: \"Source Code Pro\", source-code-pro,Consolas, monospace;\n",
       "    }\n",
       "/*    .prompt{\n",
       "        display: None;\n",
       "    }*/\n",
       "    .text_cell_render h5 {\n",
       "        font-weight: 300;\n",
       "        font-size: 16pt;\n",
       "        color: #4057A1;\n",
       "        font-style: italic;\n",
       "        margin-bottom: 0.5em;\n",
       "        margin-top: 0.5em;\n",
       "        display: block;\n",
       "    }\n",
       "\n",
       "    .warning{\n",
       "        color: rgb( 240, 20, 20 )\n",
       "        }\n",
       "</style>\n",
       "<script>\n",
       "    MathJax.Hub.Config({\n",
       "                        TeX: {\n",
       "                           extensions: [\"AMSmath.js\"]\n",
       "                           },\n",
       "                tex2jax: {\n",
       "                    inlineMath: [ ['$','$'], [\"\\\\(\",\"\\\\)\"] ],\n",
       "                    displayMath: [ ['$$','$$'], [\"\\\\[\",\"\\\\]\"] ]\n",
       "                },\n",
       "                displayAlign: 'center', // Change this to 'center' to center equations.\n",
       "                \"HTML-CSS\": {\n",
       "                    styles: {'.MathJax_Display': {\"margin\": 4}}\n",
       "                }\n",
       "        });\n",
       "</script>"
      ],
      "text/plain": [
       "<IPython.core.display.HTML object>"
      ]
     },
     "execution_count": 1,
     "metadata": {},
     "output_type": "execute_result"
    }
   ],
   "source": [
    "# Initialise styles and packages we need\n",
    "from IPython.core.display import HTML\n",
    "def css_styling():\n",
    "    styles = open(\"styles/custom.css\", \"r\").read()\n",
    "    return HTML(styles)\n",
    "css_styling()"
   ]
  },
  {
   "cell_type": "markdown",
   "metadata": {},
   "source": [
    "## Imports and classes used"
   ]
  },
  {
   "cell_type": "code",
   "execution_count": 2,
   "metadata": {},
   "outputs": [
    {
     "name": "stdout",
     "output_type": "stream",
     "text": [
      "Pandas version:       0.23.4\n"
     ]
    }
   ],
   "source": [
    "# All the imports used\n",
    "import pandas as pd\n",
    "from sklearn import preprocessing\n",
    "\n",
    "print(\"Pandas version:       {}\".format(pd.__version__))\n",
    "#print(\"Scikit learn version: {}\".format(sklearn.__version__))"
   ]
  },
  {
   "cell_type": "markdown",
   "metadata": {},
   "source": [
    "## Import cleaned data we created in 02 Data Cleansing"
   ]
  },
  {
   "cell_type": "code",
   "execution_count": 3,
   "metadata": {},
   "outputs": [
    {
     "name": "stdout",
     "output_type": "stream",
     "text": [
      "Training values: (1311, 19)\n",
      "Test values:     (616, 19)\n",
      "Index(['row_id', 'country_code', 'year', 'agricultural_land_area',\n",
      "       'forest_area', 'total_land_area', 'population_growth',\n",
      "       'avg_value_of_food_production',\n",
      "       'food_imports_as_share_of_merch_exports',\n",
      "       'gross_domestic_product_per_capita_ppp',\n",
      "       'per_capita_food_supply_variability',\n",
      "       'avg_supply_of_protein_of_animal_origin',\n",
      "       'caloric_energy_from_cereals_roots_tubers',\n",
      "       'access_to_improved_sanitation', 'access_to_improved_water_sources',\n",
      "       'obesity_prevalence', 'access_to_electricity', 'co2_emissions',\n",
      "       'ratio_urban_population_total'],\n",
      "      dtype='object')\n",
      "   row_id country_code  year  agricultural_land_area    forest_area  \\\n",
      "0       0      889f053  2002           235077.658128    5397.737544   \n",
      "1       1      9e614ab  2012            23000.640738  178336.529912   \n",
      "2       2      100c476  2000               90.954867     101.780566   \n",
      "3       3      4609682  2013           100843.661212   10348.866929   \n",
      "4       4      be2a7f5  2008              224.289357     460.113424   \n",
      "\n",
      "   total_land_area  population_growth  avg_value_of_food_production  \\\n",
      "0    537408.312513           2.864931                     60.891336   \n",
      "1    232013.631676           1.299884                    266.065999   \n",
      "2       445.037137           2.150029                    111.633560   \n",
      "3    154616.148188           1.185709                    334.252960   \n",
      "4       740.295659           0.173571                    365.214142   \n",
      "\n",
      "   food_imports_as_share_of_merch_exports  \\\n",
      "0                               22.080539   \n",
      "1                                8.897988   \n",
      "2                               58.906129   \n",
      "3                               11.912477   \n",
      "4                               76.154103   \n",
      "\n",
      "   gross_domestic_product_per_capita_ppp  per_capita_food_supply_variability  \\\n",
      "0                            3969.519106                           15.693492   \n",
      "1                            4527.258045                           26.481297   \n",
      "2                           18513.524513                           15.705757   \n",
      "3                           10710.266707                           16.191112   \n",
      "4                           10416.098948                           55.067035   \n",
      "\n",
      "   avg_supply_of_protein_of_animal_origin  \\\n",
      "0                               11.024062   \n",
      "1                               14.046164   \n",
      "2                               47.203308   \n",
      "3                               26.966547   \n",
      "4                               51.586010   \n",
      "\n",
      "   caloric_energy_from_cereals_roots_tubers  access_to_improved_sanitation  \\\n",
      "0                                 64.129571                      43.286502   \n",
      "1                                 68.285707                      63.513220   \n",
      "2                                 28.110750                      85.820712   \n",
      "3                                 50.597538                      92.274315   \n",
      "4                                 34.326635                      80.806131   \n",
      "\n",
      "   access_to_improved_water_sources  obesity_prevalence  \\\n",
      "0                         57.932801            8.293940   \n",
      "1                         71.120737            2.483303   \n",
      "2                         97.587324           18.726448   \n",
      "3                         95.611515           23.218548   \n",
      "4                         94.742248           20.010812   \n",
      "\n",
      "   access_to_electricity  co2_emissions  ratio_urban_population_total  \n",
      "0              52.433239   15485.148165                      0.269132  \n",
      "1              77.715574    1696.458184                      0.351608  \n",
      "2              91.150981     338.795191                      0.319509  \n",
      "3              99.030403   27377.802600                      0.650169  \n",
      "4              91.930367     134.258083                      0.669631  \n"
     ]
    }
   ],
   "source": [
    "training_values_filename = 'data/DAT102x_Predicting_Chronic_Hunger_-_Clean_Training_values.csv'\n",
    "test_values_filename = 'data/DAT102x_Predicting_Chronic_Hunger_-_Clean_Test_values.csv'\n",
    "\n",
    "training_values = pd.read_csv(training_values_filename)\n",
    "test_values = pd.read_csv(test_values_filename)\n",
    "\n",
    "print(\"Training values: {}\".format(training_values.shape))\n",
    "print(\"Test values:     {}\".format(test_values.shape))\n",
    "\n",
    "print(training_values.columns)\n",
    "print(training_values.head())"
   ]
  },
  {
   "cell_type": "markdown",
   "metadata": {},
   "source": [
    "## Make country_code and year categorical columns"
   ]
  },
  {
   "cell_type": "code",
   "execution_count": 4,
   "metadata": {},
   "outputs": [],
   "source": [
    "category_features = ['country_code', 'year']\n",
    "for cat in category_features:\n",
    "    training_values[cat] = training_values[cat].astype('category')\n",
    "    test_values[cat] = test_values[cat].astype('category')"
   ]
  },
  {
   "cell_type": "markdown",
   "metadata": {},
   "source": [
    "## Apply a LogNormal aka PowerTransform transformation to all the left skewed features."
   ]
  },
  {
   "cell_type": "code",
   "execution_count": 5,
   "metadata": {},
   "outputs": [],
   "source": [
    "# Yeo-Johnson is the default\n",
    "power_features = ['agricultural_land_area', 'forest_area', 'total_land_area',\n",
    "                  'population_growth', 'avg_value_of_food_production',\n",
    "                  'food_imports_as_share_of_merch_exports',\n",
    "                  'gross_domestic_product_per_capita_ppp',\n",
    "                  'per_capita_food_supply_variability',\n",
    "                  'avg_supply_of_protein_of_animal_origin',\n",
    "                  'obesity_prevalence', 'co2_emissions']\n",
    "\n",
    "pt = preprocessing.PowerTransformer(standardize=True)\n",
    "for f in power_features:\n",
    "    training_values[f] = pt.fit_transform(pd.DataFrame(training_values[f]))\n",
    "    test_values[f] = pt.fit_transform(pd.DataFrame(test_values[f]))"
   ]
  },
  {
   "cell_type": "markdown",
   "metadata": {},
   "source": [
    "## Apply a MinMaxTransform to the numerical columns"
   ]
  },
  {
   "cell_type": "code",
   "execution_count": 6,
   "metadata": {},
   "outputs": [],
   "source": [
    "min_max_features = ['caloric_energy_from_cereals_roots_tubers',\n",
    "                    'access_to_improved_sanitation',\n",
    "                    'access_to_improved_water_sources',\n",
    "                    'access_to_electricity']\n",
    "\n",
    "# ALL the columns should be done\n",
    "numerical_features = power_features + min_max_features\n",
    "\n",
    "mms = preprocessing.MinMaxScaler(copy=True, feature_range=(0, 1))\n",
    "for f in numerical_features:\n",
    "    training_values[f] = mms.fit_transform(pd.DataFrame(training_values[f]))\n",
    "    test_values[f] = mms.fit_transform(pd.DataFrame(test_values[f]))  "
   ]
  },
  {
   "cell_type": "code",
   "execution_count": 7,
   "metadata": {},
   "outputs": [],
   "source": [
    "# Curves look okay, but all overlaid on top of each other.\n",
    "for f in training_values.iloc[0:1,4:-1].columns:\n",
    "    training_values[f].plot(kind='kde')\n",
    "#    plt.show()\n",
    "#    plt.close()"
   ]
  },
  {
   "cell_type": "markdown",
   "metadata": {},
   "source": [
    "## Sanity check result and export to CSV for next steps"
   ]
  },
  {
   "cell_type": "code",
   "execution_count": 8,
   "metadata": {},
   "outputs": [
    {
     "name": "stdout",
     "output_type": "stream",
     "text": [
      "   row_id country_code  year  agricultural_land_area  forest_area  \\\n",
      "0       0      889f053  2002                0.644849     0.326591   \n",
      "1       1      9e614ab  2012                0.393423     0.598121   \n",
      "2       2      100c476  2000                0.013088     0.099657   \n",
      "3       3      4609682  2013                0.545174     0.371419   \n",
      "4       4      be2a7f5  2008                0.059169     0.177130   \n",
      "\n",
      "   total_land_area  population_growth  avg_value_of_food_production  \\\n",
      "0         0.522760           0.555582                      0.221955   \n",
      "1         0.435434           0.463276                      0.583676   \n",
      "2         0.017267           0.515693                      0.360597   \n",
      "3         0.396593           0.455697                      0.647380   \n",
      "4         0.039847           0.379837                      0.672717   \n",
      "\n",
      "   food_imports_as_share_of_merch_exports  \\\n",
      "0                                0.412590   \n",
      "1                                0.270031   \n",
      "2                                0.573186   \n",
      "3                                0.314796   \n",
      "4                                0.615790   \n",
      "\n",
      "   gross_domestic_product_per_capita_ppp  per_capita_food_supply_variability  \\\n",
      "0                               0.343225                            0.348034   \n",
      "1                               0.367934                            0.495084   \n",
      "2                               0.644420                            0.348249   \n",
      "3                               0.534370                            0.356623   \n",
      "4                               0.528860                            0.710241   \n",
      "\n",
      "   avg_supply_of_protein_of_animal_origin  \\\n",
      "0                                0.247253   \n",
      "1                                0.310009   \n",
      "2                                0.729224   \n",
      "3                                0.511734   \n",
      "4                                0.768029   \n",
      "\n",
      "   caloric_energy_from_cereals_roots_tubers  access_to_improved_sanitation  \\\n",
      "0                                  0.672182                       0.360459   \n",
      "1                                  0.739436                       0.581735   \n",
      "2                                  0.089336                       0.825776   \n",
      "3                                  0.453211                       0.896377   \n",
      "4                                  0.189920                       0.770917   \n",
      "\n",
      "   access_to_improved_water_sources  obesity_prevalence  \\\n",
      "0                          0.381366            0.339888   \n",
      "1                          0.566625            0.113026   \n",
      "2                          0.938416            0.595430   \n",
      "3                          0.910661            0.681353   \n",
      "4                          0.898450            0.621013   \n",
      "\n",
      "   access_to_electricity  co2_emissions  ratio_urban_population_total  \n",
      "0               0.514125       0.501945                      0.269132  \n",
      "1               0.762074       0.281082                      0.351608  \n",
      "2               0.893837       0.120386                      0.319509  \n",
      "3               0.971112       0.558871                      0.650169  \n",
      "4               0.901481       0.028361                      0.669631  \n"
     ]
    }
   ],
   "source": [
    "print(training_values.head())"
   ]
  },
  {
   "cell_type": "code",
   "execution_count": 9,
   "metadata": {},
   "outputs": [],
   "source": [
    "final_scaled_normalised_training_values_filename = 'data/DAT102x_Predicting_Chronic_Hunger_-_Clean_Normal_Training_values.csv'\n",
    "final_scaled_normalised_test_values_filename = 'data/DAT102x_Predicting_Chronic_Hunger_-_Clean_Normal_Test_values.csv'\n",
    "\n",
    "training_values.to_csv(final_scaled_normalised_training_values_filename, index=False)\n",
    "test_values.to_csv(final_scaled_normalised_test_values_filename, index=False)"
   ]
  },
  {
   "cell_type": "markdown",
   "metadata": {},
   "source": [
    "## Next Steps\n",
    "We are ready to train our model now. \"04 Train Model\" covers this."
   ]
  }
 ],
 "metadata": {
  "kernelspec": {
   "display_name": "Python 3",
   "language": "python",
   "name": "python3"
  },
  "language_info": {
   "codemirror_mode": {
    "name": "ipython",
    "version": 3
   },
   "file_extension": ".py",
   "mimetype": "text/x-python",
   "name": "python",
   "nbconvert_exporter": "python",
   "pygments_lexer": "ipython3",
   "version": "3.7.0"
  }
 },
 "nbformat": 4,
 "nbformat_minor": 2
}
